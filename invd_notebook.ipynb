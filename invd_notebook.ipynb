{
 "cells": [
  {
   "cell_type": "markdown",
   "metadata": {},
   "source": [
    "<h1>Tracking Language Patterns in Covenants Across Time</h1>\n",
    "<p>Marguertie Mills</p>\n",
    "<p>This program is designed to analyze racial covenant data gathered by the Mapping Prejudice project and identify patterns in racial covenant language from across time. Please see documentation (*executive summary) for further background and details on this project.</p>"
   ]
  },
  {
   "cell_type": "markdown",
   "metadata": {},
   "source": [
    "_____________________"
   ]
  },
  {
   "cell_type": "markdown",
   "metadata": {},
   "source": [
    "<h2>Package/Data Imports</h2>"
   ]
  },
  {
   "cell_type": "code",
   "execution_count": 231,
   "metadata": {},
   "outputs": [],
   "source": [
    "import pandas\n",
    "\n",
    "# get data set CSV and push into dataframe\n",
    "csv = \"text_search_master_abstracts.csv\"\n",
    "df = pandas.read_csv(csv)"
   ]
  },
  {
   "cell_type": "markdown",
   "metadata": {},
   "source": [
    "___________________"
   ]
  },
  {
   "cell_type": "markdown",
   "metadata": {},
   "source": [
    "<h2>Functions</h2>\n",
    "<h3>1. Separartion by Decade Function</h3>"
   ]
  },
  {
   "cell_type": "code",
   "execution_count": 232,
   "metadata": {},
   "outputs": [],
   "source": [
    "# split entries into seperate lists based according to what decade they belong. \n",
    "# because we are working with participatory data (see documentation for further explanation)\n",
    "# the data has imperfections, in order to avoid errors for null values, we skip any non-ineger\n",
    "# values. If the year value matches the year range condional, it is appended to a new list.\n",
    "\n",
    "def year_filter(origin_df, start_year, end_year, decade_list):\n",
    "    for index_num, i in origin_df.iterrows():\n",
    "        try: \n",
    "            year_int = int(i['Year'])\n",
    "        except:\n",
    "            pass\n",
    "        if year_int > start_year and year_int < end_year:\n",
    "            decade_list.append(i)\n",
    "        else:\n",
    "            pass"
   ]
  },
  {
   "cell_type": "markdown",
   "metadata": {
    "collapsed": true
   },
   "source": [
    "<h3>2. Seperation Based on Covenant Language Function</h3>"
   ]
  },
  {
   "cell_type": "code",
   "execution_count": 233,
   "metadata": {
    "scrolled": false
   },
   "outputs": [],
   "source": [
    "# Once data is parced by decade, this function sorts entires within the decade lists based on \n",
    "# the appearence of \"Inclusionary\" or \"Exclusionary\" language (see documentation for explanation\n",
    "# of these categories). If the racial restriction value(string) for each entry in the decade seperated\n",
    "# lists contains the term \"white\" or \"caucasian\" (i.e. laguage that which calls out included groups)\n",
    "# the item is added to a decade seperated \"inclusion\" list. If it does not, it is added to an\n",
    "# \"exclusion\" list\n",
    "\n",
    "def lang_filter(origin_df, decade_inclusion, decade_exclusion):\n",
    "    for i in origin_df:\n",
    "        if type(i[2]) == str:\n",
    "            if \"white\" in i[2]:\n",
    "                decade_inclusion.append(i)\n",
    "            elif \"Caucasian\" in i[2]:\n",
    "                decade_inclusion.append(i)\n",
    "            elif \"White\" in i[2]:\n",
    "                decade_inclusion.append(i)\n",
    "            elif \"caucasian\" in i[2]:\n",
    "                decade_inclusion.append(i)\n",
    "            else:\n",
    "                decade_exclusion.append(i)\n",
    "        else:\n",
    "            pass"
   ]
  },
  {
   "cell_type": "markdown",
   "metadata": {},
   "source": [
    "<h3>3. Print/Organize Results Function</h3>"
   ]
  },
  {
   "cell_type": "code",
   "execution_count": 236,
   "metadata": {},
   "outputs": [],
   "source": [
    "# the results are printed and and percentages of each type of covenanat are calculated to \n",
    "# demonstrate how these different types of racial covenants are deployed over time\n",
    "\n",
    "def results_print(decade_range, decade_df, inclusion_df, exclusion_df):\n",
    "    print(decade_range, '\\n', \n",
    "      'total: ', len(decade_df), '\\n', \n",
    "      'inclusionary covenants total: ', \n",
    "      len(inclusion_df),\n",
    "      '  (', (len(inclusion_df)/len(decade_df)*100), 'percent)', '\\n',\n",
    "      'exclusionary covenants total: ', \n",
    "      len(exclusion_df), \n",
    "      '  (', (len(exclusion_df)/len(decade_df)*100), 'percent)', '\\n')"
   ]
  },
  {
   "cell_type": "markdown",
   "metadata": {},
   "source": [
    "_____________________"
   ]
  },
  {
   "cell_type": "markdown",
   "metadata": {},
   "source": [
    "<h2>Initial Data Cleaning/Pre-processing</h2>\n",
    "<h3>1. Eliminate first entry</h3>"
   ]
  },
  {
   "cell_type": "code",
   "execution_count": 238,
   "metadata": {},
   "outputs": [],
   "source": [
    "# The first entry in the database is used for column type identification when imported into ArcMap\n",
    "# and must be removed to avoid errors when processing it with python.\n",
    "\n",
    "df2 = df.drop(df.index[0])"
   ]
  },
  {
   "cell_type": "markdown",
   "metadata": {},
   "source": [
    "<h3>2. Slice year only out of the date data</h3>\n",
    "<p>The original data included a full date (dd/mm/yyyy). In order to allow the split by decade function to run properly, date data for each entry must be sliced- leaving only the last four digits from the year value entries and place them in a new column for grouping.</p>"
   ]
  },
  {
   "cell_type": "code",
   "execution_count": 239,
   "metadata": {},
   "outputs": [],
   "source": [
    "# The original data included a full date (dd/mm/yyyy). In order to allow the split by decade function\n",
    "# to run properly, date data for each entry must be sliced- leaving only the last four digits from \n",
    "# the year value entries and place them in a new column for grouping.\n",
    "\n",
    "df2['Year'] = df.Date_Ex.str[-4:]"
   ]
  },
  {
   "cell_type": "markdown",
   "metadata": {},
   "source": [
    "__________________"
   ]
  },
  {
   "cell_type": "markdown",
   "metadata": {},
   "source": [
    "<h2>Processing</h2>\n",
    "<h3>1. Split data based on decade</h3>"
   ]
  },
  {
   "cell_type": "code",
   "execution_count": 241,
   "metadata": {},
   "outputs": [],
   "source": [
    "# for each decade in the data set (1910s, 1920s, 1930s, 1940s) create a list and use it as a perameter in the \n",
    "# decade filtration function. Run the decacade filtration function and fill each lists will that the dadta entries\n",
    "# from that date range.\n",
    "\n",
    "df_1910s = []\n",
    "year_filter(df2, 1909, 1920, df_1910s)\n",
    "\n",
    "df_1920s = []\n",
    "year_filter(df2, 1919, 1930, df_1920s)\n",
    "\n",
    "df_1930s = []\n",
    "year_filter(df2, 1929, 1940, df_1930s)\n",
    "\n",
    "df_1940s = []\n",
    "year_filter(df2, 1939, 1950, df_1940s)\n",
    "\n",
    "df_1950s = []\n",
    "year_filter(df2, 1949, 1960, df_1950s)"
   ]
  },
  {
   "cell_type": "markdown",
   "metadata": {},
   "source": [
    "<h3>2. Split decade seperated data based on inclusion/exclusion language</h3>"
   ]
  },
  {
   "cell_type": "code",
   "execution_count": 242,
   "metadata": {},
   "outputs": [],
   "source": [
    "# for each decade create two lists: inclusion and exclusion. Run the language filtration function \n",
    "# using the appropriate decade/language type list variables as peramiters and retun lists containing \n",
    "# the data that fit the decade and language criteria.\n",
    "\n",
    "df_1910s_inclusion = []\n",
    "df_1910s_exclusion = []\n",
    "lang_filter(df_1910s, df_1910s_inclusion, df_1910s_exclusion)\n",
    "    \n",
    "df_1920s_inclusion = []\n",
    "df_1920s_exclusion = []\n",
    "lang_filter(df_1920s, df_1920s_inclusion, df_1920s_exclusion)\n",
    "    \n",
    "df_1930s_inclusion = []\n",
    "df_1930s_exclusion = []\n",
    "lang_filter(df_1930s, df_1930s_inclusion, df_1930s_exclusion)\n",
    "\n",
    "df_1940s_inclusion = []\n",
    "df_1940s_exclusion = []\n",
    "lang_filter(df_1940s, df_1940s_inclusion, df_1940s_exclusion)\n",
    "\n",
    "df_1950s_inclusion = []\n",
    "df_1950s_exclusion = []\n",
    "lang_filter(df_1950s, df_1950s_inclusion, df_1950s_exclusion)"
   ]
  },
  {
   "cell_type": "markdown",
   "metadata": {},
   "source": [
    "______________________"
   ]
  },
  {
   "cell_type": "markdown",
   "metadata": {},
   "source": [
    "<h2>Results</h2>"
   ]
  },
  {
   "cell_type": "code",
   "execution_count": 229,
   "metadata": {},
   "outputs": [
    {
     "name": "stdout",
     "output_type": "stream",
     "text": [
      "1910-1919 \n",
      " total:  549 \n",
      " inclusionary covenants total:  97   ( 17.66848816029144 percent) \n",
      " exclusionary covenants total:  451   ( 82.14936247723132 percent) \n",
      "\n",
      "1920-1929 \n",
      " total:  5824 \n",
      " inclusionary covenants total:  4268   ( 73.28296703296702 percent) \n",
      " exclusionary covenants total:  1511   ( 25.944368131868135 percent) \n",
      "\n",
      "1930-1939 \n",
      " total:  3490 \n",
      " inclusionary covenants total:  2895   ( 82.9512893982808 percent) \n",
      " exclusionary covenants total:  592   ( 16.96275071633238 percent) \n",
      "\n",
      "1940-1949 \n",
      " total:  4570 \n",
      " inclusionary covenants total:  4199   ( 91.88183807439825 percent) \n",
      " exclusionary covenants total:  364   ( 7.964989059080962 percent) \n",
      "\n",
      "1950-1959 \n",
      " total:  50 \n",
      " inclusionary covenants total:  38   ( 76.0 percent) \n",
      " exclusionary covenants total:  11   ( 22.0 percent) \n",
      "\n"
     ]
    }
   ],
   "source": [
    "# for each decade range print the results using the function which calculate the percentage of each \n",
    "# covenant \"type\" for the corresponding decade.\n",
    "\n",
    "results_print('1910-1919', df_1910s, df_1910s_inclusion, df_1910s_exclusion)\n",
    "results_print('1920-1929', df_1920s, df_1920s_inclusion, df_1920s_exclusion)\n",
    "results_print('1930-1939', df_1930s, df_1930s_inclusion, df_1930s_exclusion)\n",
    "results_print('1940-1949', df_1940s, df_1940s_inclusion, df_1940s_exclusion)\n",
    "results_print('1950-1959', df_1950s, df_1950s_inclusion, df_1950s_exclusion)"
   ]
  }
 ],
 "metadata": {
  "anaconda-cloud": {},
  "kernelspec": {
   "display_name": "Python 3",
   "language": "python",
   "name": "python3"
  },
  "language_info": {
   "codemirror_mode": {
    "name": "ipython",
    "version": 3
   },
   "file_extension": ".py",
   "mimetype": "text/x-python",
   "name": "python",
   "nbconvert_exporter": "python",
   "pygments_lexer": "ipython3",
   "version": "3.7.2"
  }
 },
 "nbformat": 4,
 "nbformat_minor": 1
}
